{
 "cells": [
  {
   "cell_type": "code",
   "execution_count": 7,
   "metadata": {},
   "outputs": [],
   "source": [
    "import numpy as np\n",
    "import matplotlib.pyplot as plt\n"
   ]
  },
  {
   "cell_type": "code",
   "execution_count": 8,
   "metadata": {},
   "outputs": [],
   "source": [
    "import pandas as pd"
   ]
  },
  {
   "cell_type": "code",
   "execution_count": 9,
   "metadata": {},
   "outputs": [],
   "source": [
    "df = pd.read_csv(\"test17_reduced.csv\")\n",
    "df.columns = [\"row\", \"col\", \"val\"]"
   ]
  },
  {
   "cell_type": "code",
   "execution_count": 10,
   "metadata": {},
   "outputs": [],
   "source": [
    "A = np.zeros((15, 24))\n",
    "A[df.row.values, df.col.values] = df.val.values"
   ]
  },
  {
   "cell_type": "code",
   "execution_count": 11,
   "metadata": {},
   "outputs": [
    {
     "name": "stdout",
     "output_type": "stream",
     "text": [
      "0 \t 12 \t -1.0\n",
      "0 \t 14 \t 1.66667\n",
      "0 \t 20 \t 0.5\n",
      "1 \t 7 \t 1.0\n",
      "1 \t 14 \t -0.333333\n",
      "1 \t 20 \t -0.25\n",
      "8 \t 14 \t -1.0\n",
      "8 \t 15 \t 1.0\n",
      "10 \t 12 \t -1.0\n",
      "10 \t 13 \t 1.0\n",
      "10 \t 14 \t 1.0\n",
      "13 \t 8 \t 1.0\n",
      "13 \t 14 \t -0.333333\n"
     ]
    }
   ],
   "source": [
    "\n",
    "for i in range(15):\n",
    "    if abs(A[i, 14]) < 0.01: continue\n",
    "    for j in range(24):\n",
    "        if abs(A[i, j]) > 0.01:\n",
    "            print(i, \"\\t\", j, \"\\t\", A[i, j])"
   ]
  },
  {
   "cell_type": "code",
   "execution_count": null,
   "metadata": {},
   "outputs": [],
   "source": []
  }
 ],
 "metadata": {
  "kernelspec": {
   "display_name": "base",
   "language": "python",
   "name": "python3"
  },
  "language_info": {
   "codemirror_mode": {
    "name": "ipython",
    "version": 3
   },
   "file_extension": ".py",
   "mimetype": "text/x-python",
   "name": "python",
   "nbconvert_exporter": "python",
   "pygments_lexer": "ipython3",
   "version": "3.10.12"
  }
 },
 "nbformat": 4,
 "nbformat_minor": 2
}

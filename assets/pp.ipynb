{
 "cells": [
  {
   "cell_type": "code",
   "execution_count": 7,
   "metadata": {},
   "outputs": [],
   "source": [
    "import numpy as np\n",
    "import matplotlib.pyplot as plt\n"
   ]
  },
  {
   "cell_type": "code",
   "execution_count": 8,
   "metadata": {},
   "outputs": [],
   "source": [
    "import pandas as pd"
   ]
  },
  {
   "cell_type": "code",
   "execution_count": 18,
   "metadata": {},
   "outputs": [],
   "source": [
    "df = pd.read_csv(\"tests/test10/reduced.csv\")\n",
    "df.columns = [\"row\", \"col\", \"val\"]"
   ]
  },
  {
   "cell_type": "code",
   "execution_count": 19,
   "metadata": {},
   "outputs": [],
   "source": [
    "A = np.zeros((15, 24))\n",
    "A[df.row.values, df.col.values] = df.val.values"
   ]
  },
  {
   "cell_type": "code",
   "execution_count": 21,
   "metadata": {},
   "outputs": [
    {
     "name": "stdout",
     "output_type": "stream",
     "text": [
      "0 \t 5 \t 10.0\n",
      "0 \t 7 \t -1.0\n",
      "3 \t 6 \t -1.0\n",
      "3 \t 7 \t 1.0\n",
      "3 \t 8 \t 1.0\n"
     ]
    }
   ],
   "source": [
    "\n",
    "for i in range(15):\n",
    "    if abs(A[i, 7]) < 0.01: continue\n",
    "    for j in range(24):\n",
    "        if abs(A[i, j]) > 0.01:\n",
    "            print(i, \"\\t\", j, \"\\t\", A[i, j])"
   ]
  },
  {
   "cell_type": "code",
   "execution_count": null,
   "metadata": {},
   "outputs": [],
   "source": []
  }
 ],
 "metadata": {
  "kernelspec": {
   "display_name": "base",
   "language": "python",
   "name": "python3"
  },
  "language_info": {
   "codemirror_mode": {
    "name": "ipython",
    "version": 3
   },
   "file_extension": ".py",
   "mimetype": "text/x-python",
   "name": "python",
   "nbconvert_exporter": "python",
   "pygments_lexer": "ipython3",
   "version": "3.10.12"
  }
 },
 "nbformat": 4,
 "nbformat_minor": 2
}
